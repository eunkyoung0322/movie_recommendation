{
  "nbformat": 4,
  "nbformat_minor": 0,
  "metadata": {
    "colab": {
      "name": "팀플_수정_찐막.ipynb",
      "provenance": [],
      "collapsed_sections": []
    },
    "kernelspec": {
      "name": "python3",
      "display_name": "Python 3"
    },
    "language_info": {
      "name": "python"
    }
  },
  "cells": [
    {
      "cell_type": "code",
      "metadata": {
        "id": "_11dqH4SNr6H"
      },
      "source": [
        "import os\n",
        "import sys\n",
        "import urllib.request\n",
        "import pandas as pd\n",
        "import json\n",
        "from bs4 import BeautifulSoup\n",
        "import re\n",
        "import requests\n",
        "from tabulate import tabulate\n",
        "\n",
        "def BAR():\n",
        "    print('--------------------------------------------------------------------')\n",
        "\n",
        "def print_DF(df):\n",
        "    print(tabulate(df, headers='keys', tablefmt='psql'))\n",
        "\n",
        "#네이버 api를 통해 검색 후 상위 5개 검색어 반환\n",
        "def searching(title):\n",
        "    client_id = \"JnkicuvSa2phrxPmgIXM\"\n",
        "    client_secret = \"7nhnLrKQWp\"\n",
        "    \n",
        "    encText = urllib.parse.quote(title)\n",
        "    url = \"https://openapi.naver.com/v1/search/book?query=\" + encText +\"&display=5\"\n",
        "\n",
        "    request = urllib.request.Request(url)\n",
        "    request.add_header(\"X-Naver-Client-Id\",client_id)\n",
        "    request.add_header(\"X-Naver-Client-Secret\",client_secret)\n",
        "    response = urllib.request.urlopen(request)\n",
        "    \n",
        "    rescode = response.getcode()\n",
        "    if(rescode == 200):\n",
        "        response_body = response.read()\n",
        "        result = response_body.decode('utf-8')\n",
        "        result = json.loads(result)\n",
        "\n",
        "        print(\"Success!\")\n",
        "        return result\n",
        "    else:\n",
        "        print(\"Error Code:\" + rescode)\n",
        "        return -1\n",
        "\n",
        "#상위 5개의 검색 결과에서 사용자가 원하는 책을 고릅니다.\n",
        "def choose_one_return_url(book):\n",
        "    book_df = pd.DataFrame(book['items'])\n",
        "\n",
        "    for i in range(len(book_df)):\n",
        "        book_df.iloc[i]['title'] = BeautifulSoup(book_df.iloc[i]['title'], \"html5lib\").get_text()\n",
        "    \n",
        "    book_to_choice = book_df[['title','author']]\n",
        "\n",
        "    print_DF(book_to_choice)   \n",
        "\n",
        "    while 1:\n",
        "        choice = int(input('원하는 책의 번호를 입력하세요: '))\n",
        "\n",
        "        if choice < 0 or choice >= 5:\n",
        "            print(\"Please enter 0 between 5.\")\n",
        "        else:\n",
        "            break        \n",
        "    print(\"Success!\")\n",
        "\n",
        "    return book_df.iloc[choice][\"title\"], book_df.iloc[choice][\"link\"]\n",
        "\n",
        "#사용자가 선택한 책의 정보 전체를 받아옴\n",
        "def make_description(URL):   \n",
        "    url = requests.get(URL)\n",
        "\n",
        "    #BeautifulSoup: requests로 받아온 html 문서를 보기 좋게 꾸며주는 틀\n",
        "    soup = BeautifulSoup(url.text, 'html.parser')\n",
        "\n",
        "    whole_review = soup.findAll(\"div\", attrs={\"id\":\"bookIntroContent\"})\n",
        "    whole_review\n",
        "\n",
        "    for line in whole_review:\n",
        "        book_des = line.get_text()\n",
        "    print(\"Success!\")\n",
        "    return book_des\n",
        "\n",
        "#한글 -> 영어\n",
        "def translation(target):\n",
        "    client_id = \"GgPYL3vwgwG4djR0GQ0Y\"\n",
        "    client_secret = \"CsLZxH0551\"\n",
        "\n",
        "    url = \"https://openapi.naver.com/v1/papago/n2mt\"\n",
        "\n",
        "    #번역할 언어와 내용에 대해\n",
        "    text = target\n",
        "    encText = urllib.parse.quote(text)\n",
        "    srcLang = 'ko'\n",
        "    tarLang = 'en'\n",
        "    data = \"source={}&target={}&text=\".format(srcLang,tarLang) + encText\n",
        "\n",
        "    #웹 요청\n",
        "    request = urllib.request.Request(url)\n",
        "    request.add_header(\"X-Naver-Client-Id\",client_id)\n",
        "    request.add_header(\"X-Naver-Client-Secret\",client_secret)\n",
        "\n",
        "    #결과 받아오는 부분\n",
        "    response = urllib.request.urlopen(request, data=data.encode(\"utf-8\"))\n",
        "\n",
        "    #응답\n",
        "    rescode = response.getcode()\n",
        "    if(rescode==200): #성공\n",
        "        response_body = response.read()\n",
        "        data = response_body.decode('utf-8')\n",
        "        data = json.loads(data) #딕셔너리화\n",
        "        trans_text = data['message']['result']['translatedText']\n",
        "        trans_text = re.sub('[^A-Za-z0-9]+', ' ', trans_text)\n",
        "        return trans_text\n",
        "    else: #실패\n",
        "        print(\"Error Code:\" + rescode)\n",
        "        return -1"
      ],
      "execution_count": 1,
      "outputs": []
    },
    {
      "cell_type": "code",
      "metadata": {
        "id": "CUZXk8XiUQ3E",
        "colab": {
          "base_uri": "https://localhost:8080/"
        },
        "outputId": "f0d82313-1eb2-4fe8-e53c-c7b839be3325"
      },
      "source": [
        "result = searching(input(\"Please enter the title of the book : \"))\n",
        "book_title, url = choose_one_return_url(result)\n",
        "book_des = make_description(url)\n",
        "\n",
        "book_title = translation(book_title)\n",
        "book_des = translation(book_des)\n",
        "\n",
        "BAR()\n",
        "print('책 제목: ', book_title)\n",
        "print('책 줄거리: ', book_des)"
      ],
      "execution_count": 2,
      "outputs": [
        {
          "output_type": "stream",
          "text": [
            "Please enter the title of the book : 베이스볼\n",
            "Success!\n",
            "+----+----------------------------------------------------------------------+-----------------------+\n",
            "|    | title                                                                | author                |\n",
            "|----+----------------------------------------------------------------------+-----------------------|\n",
            "|  0 | 스마트 베이스볼(Smart Baseball) (현대 야구를 지배하는 새로운 데이터) | 키스 로               |\n",
            "|  1 | 주간베이스볼 週刊ベ-スボ-ル 2021.06.07                               | ベ-スボ-ル.マガジン社 |\n",
            "|  2 | 주간베이스볼 週刊ベ-スボ-ル 2021.05.31                               | ベ-スボ-ル.マガジン社 |\n",
            "|  3 | 주간베이스볼 週刊ベ-スボ-ル 2021.05.24                               | ベ-スボ-ル.マガジン社 |\n",
            "|  4 | 주간베이스볼 週刊ベ-スボ-ル 2021.05.17                               | ベ-スボ-ル.マガジン社 |\n",
            "+----+----------------------------------------------------------------------+-----------------------+\n",
            "원하는 책의 번호를 입력하세요: 0\n",
            "Success!\n",
            "Success!\n",
            "--------------------------------------------------------------------\n",
            "책 제목:  Smart Baseball New Data Dominating Modern Baseball \n",
            "책 줄거리:  Over the past decade the data revolution in the sub baseball world has overturned not only the major leagues but also the domestic professional baseball league Critics and commentators have changed their commentaries and reporters are evaluating players by pushing unfamiliar and unfamiliar stats such as WAR wRC and UZR Furthermore MLB clubs are valuing players with new standards with the help of Sabermetrics and Statcasts What data do we rely on to watch baseball in this rapidly changing era of data baseball This book helps readers enjoy more interesting baseball through clearer and smarter stats rather than conventional stats that bring confusion and errors such as multiple wins batting average RBIs and saves \n"
          ],
          "name": "stdout"
        }
      ]
    },
    {
      "cell_type": "code",
      "metadata": {
        "id": "uZRgFdQuIOgf",
        "colab": {
          "base_uri": "https://localhost:8080/"
        },
        "outputId": "016b17d7-56b4-4ef0-931c-6feb1acbc2f2"
      },
      "source": [
        "#주피터 노트북이 아닌 Colab에서 돌릴 경우 구글 드라이브에서 해당 파일 불러오는 부분\n",
        "from google.colab import drive\n",
        "drive.mount('/content/drive')\n",
        "\n",
        "file = \"/content/drive/MyDrive/Colab Notebooks/movies_metadata.csv\"\n",
        "\n",
        "data = pd.read_csv(file)\n",
        "\n",
        "#Colab 아니면 아래 코드 이용\n",
        "#data = pd.read_csv(\"movies_metadata.csv\")\n",
        "\n",
        "data = data.head(30000)\n",
        "\n",
        "#영화 데이터 프레임에 책 description 추가\n",
        "book_data = {'title': book_title, 'overview' : book_des}\n",
        "data = data.append(book_data,ignore_index=True)\n",
        "\n",
        "\n",
        "#Null 값 확인\n",
        "data['overview'].isnull().sum()\n",
        "\n",
        "# overview에서 NaN 값을 가진 경우를 제거(tf-idf를 할 때 NaN값이 들어있으면 에러가 나기 때문)\n",
        "#해당 행을 그대로 두고 overivew의 NaN값만 제거\n",
        "data['overview'] = data['overview'].fillna('')\n",
        "#Null 값 확인\n",
        "data['overview'].isnull().sum()\n",
        "\n",
        "data['overview'].tail()"
      ],
      "execution_count": 3,
      "outputs": [
        {
          "output_type": "stream",
          "text": [
            "Drive already mounted at /content/drive; to attempt to forcibly remount, call drive.mount(\"/content/drive\", force_remount=True).\n"
          ],
          "name": "stdout"
        },
        {
          "output_type": "stream",
          "text": [
            "/usr/local/lib/python3.7/dist-packages/IPython/core/interactiveshell.py:2718: DtypeWarning: Columns (10) have mixed types.Specify dtype option on import or set low_memory=False.\n",
            "  interactivity=interactivity, compiler=compiler, result=result)\n"
          ],
          "name": "stderr"
        },
        {
          "output_type": "execute_result",
          "data": {
            "text/plain": [
              "29996    A beautiful lonely girl named Melissa tries to...\n",
              "29997    A journalist starts an investigation into the ...\n",
              "29998    When an out of work actress unexpectedly lands...\n",
              "29999    Bumbling navy officer Lieutenant Humphrey Fair...\n",
              "30000    Over the past decade the data revolution in th...\n",
              "Name: overview, dtype: object"
            ]
          },
          "metadata": {
            "tags": []
          },
          "execution_count": 3
        }
      ]
    },
    {
      "cell_type": "code",
      "metadata": {
        "colab": {
          "base_uri": "https://localhost:8080/"
        },
        "id": "MMHBf7xqL_jF",
        "outputId": "b0f2b301-6197-42f0-f4c7-b6fce8086fb2"
      },
      "source": [
        "from sklearn.feature_extraction.text import TfidfVectorizer\n",
        "\n",
        "tfidf = TfidfVectorizer(stop_words='english') # 불용어 제거\n",
        "\n",
        "# overview에 대해서 TF-IDF 수행\n",
        "tfidf_matrix = tfidf.fit_transform(data['overview'])\n",
        "# (데이터 개수, 단어 개수)\n",
        "print(tfidf_matrix.shape)\n",
        "\n"
      ],
      "execution_count": 4,
      "outputs": [
        {
          "output_type": "stream",
          "text": [
            "(30001, 58569)\n"
          ],
          "name": "stdout"
        }
      ]
    },
    {
      "cell_type": "code",
      "metadata": {
        "id": "SPLEXVvGTHsa"
      },
      "source": [
        "from sklearn.metrics.pairwise import linear_kernel\n",
        "\n",
        "#코사인 유사도 계산\n",
        "cosine_sim = linear_kernel(tfidf_matrix, tfidf_matrix)\n",
        "\n",
        "#제목에 관한 인덱스 테이블 구축\n",
        "#책 제목 입력하면 인덱스를 리턴하기 위함\n",
        "indices = pd.Series(data.index, index=data['title']).drop_duplicates()\n"
      ],
      "execution_count": 5,
      "outputs": []
    },
    {
      "cell_type": "code",
      "metadata": {
        "colab": {
          "base_uri": "https://localhost:8080/",
          "height": 359
        },
        "id": "Iip8JmvIOQoE",
        "outputId": "51122a5d-7c7e-4e33-f564-1e947259fbf2"
      },
      "source": [
        "#입력한 책에 대해서 코사인 유사도를 이용하여 overview가 가장 유사한 10개의 영화 찾아냄\n",
        "def recommendation(title, cosine_sim=cosine_sim):\n",
        "    # 입력한 책의 인덱스 가져오기\n",
        "    idx = indices[title]\n",
        "\n",
        "    # 모든 영화에 대해서 해당 책과의 유사도를 구함\n",
        "    sim_scores = list(enumerate(cosine_sim[idx]))\n",
        "\n",
        "    # 유사도에 따라 정렬\n",
        "    sim_scores = sorted(sim_scores, key=lambda x: x[1], reverse=True)\n",
        "\n",
        "    # 가장 유사한 10개의 영화를 받아옴\n",
        "    sim_scores = sim_scores[1:11]\n",
        "\n",
        "    # 가장 유사한 10개의 영화의 인덱스를 받아옴\n",
        "    movie_indices = [i[0] for i in sim_scores]\n",
        "\n",
        "    #기존에 읽어들인 데이터에서 해당 인덱스의 값들을 가져온다\n",
        "    #그리고 스코어 열을 추가하여 코사인 유사도도 확인할 수 있게 한다.\n",
        "    result_df = data.iloc[movie_indices].copy()\n",
        "    result_df['score'] = [i[1] for i in sim_scores]\n",
        "    \n",
        "    # 가장 유사한 10개의 영화의 제목과 스코어 리턴\n",
        "    result_df = result_df[[\"title\",\"score\"]]\n",
        "    return result_df\n",
        "\n",
        "recommendation(book_title)"
      ],
      "execution_count": 6,
      "outputs": [
        {
          "output_type": "execute_result",
          "data": {
            "text/html": [
              "<div>\n",
              "<style scoped>\n",
              "    .dataframe tbody tr th:only-of-type {\n",
              "        vertical-align: middle;\n",
              "    }\n",
              "\n",
              "    .dataframe tbody tr th {\n",
              "        vertical-align: top;\n",
              "    }\n",
              "\n",
              "    .dataframe thead th {\n",
              "        text-align: right;\n",
              "    }\n",
              "</style>\n",
              "<table border=\"1\" class=\"dataframe\">\n",
              "  <thead>\n",
              "    <tr style=\"text-align: right;\">\n",
              "      <th></th>\n",
              "      <th>title</th>\n",
              "      <th>score</th>\n",
              "    </tr>\n",
              "  </thead>\n",
              "  <tbody>\n",
              "    <tr>\n",
              "      <th>6374</th>\n",
              "      <td>Mr. Baseball</td>\n",
              "      <td>0.244108</td>\n",
              "    </tr>\n",
              "    <tr>\n",
              "      <th>16285</th>\n",
              "      <td>Cooperstown</td>\n",
              "      <td>0.218530</td>\n",
              "    </tr>\n",
              "    <tr>\n",
              "      <th>169</th>\n",
              "      <td>Johnny Mnemonic</td>\n",
              "      <td>0.212516</td>\n",
              "    </tr>\n",
              "    <tr>\n",
              "      <th>19694</th>\n",
              "      <td>The Busher</td>\n",
              "      <td>0.211085</td>\n",
              "    </tr>\n",
              "    <tr>\n",
              "      <th>17240</th>\n",
              "      <td>Calvin Marshall</td>\n",
              "      <td>0.205888</td>\n",
              "    </tr>\n",
              "    <tr>\n",
              "      <th>6108</th>\n",
              "      <td>Talent for the Game</td>\n",
              "      <td>0.205088</td>\n",
              "    </tr>\n",
              "    <tr>\n",
              "      <th>26961</th>\n",
              "      <td>The Jackie Robinson Story</td>\n",
              "      <td>0.192555</td>\n",
              "    </tr>\n",
              "    <tr>\n",
              "      <th>3137</th>\n",
              "      <td>A League of Their Own</td>\n",
              "      <td>0.190057</td>\n",
              "    </tr>\n",
              "    <tr>\n",
              "      <th>23700</th>\n",
              "      <td>The Battered Bastards of Baseball</td>\n",
              "      <td>0.179871</td>\n",
              "    </tr>\n",
              "    <tr>\n",
              "      <th>20759</th>\n",
              "      <td>42</td>\n",
              "      <td>0.179753</td>\n",
              "    </tr>\n",
              "  </tbody>\n",
              "</table>\n",
              "</div>"
            ],
            "text/plain": [
              "                                   title     score\n",
              "6374                        Mr. Baseball  0.244108\n",
              "16285                        Cooperstown  0.218530\n",
              "169                      Johnny Mnemonic  0.212516\n",
              "19694                         The Busher  0.211085\n",
              "17240                    Calvin Marshall  0.205888\n",
              "6108                 Talent for the Game  0.205088\n",
              "26961          The Jackie Robinson Story  0.192555\n",
              "3137               A League of Their Own  0.190057\n",
              "23700  The Battered Bastards of Baseball  0.179871\n",
              "20759                                 42  0.179753"
            ]
          },
          "metadata": {
            "tags": []
          },
          "execution_count": 6
        }
      ]
    },
    {
      "cell_type": "code",
      "metadata": {
        "id": "jPXBC2YtOWmx"
      },
      "source": [
        ""
      ],
      "execution_count": null,
      "outputs": []
    }
  ]
}