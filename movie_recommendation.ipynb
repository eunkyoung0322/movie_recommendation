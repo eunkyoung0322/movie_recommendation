{
  "nbformat": 4,
  "nbformat_minor": 0,
  "metadata": {
    "colab": {
      "name": "팀플_수정_찐막.ipynb",
      "provenance": [],
      "collapsed_sections": []
    },
    "kernelspec": {
      "display_name": "Python 3",
      "name": "python3"
    },
    "language_info": {
      "name": "python"
    }
  },
  "cells": [
    {
      "cell_type": "code",
      "metadata": {
        "id": "_11dqH4SNr6H"
      },
      "source": [
        "import os\n",
        "import sys\n",
        "import urllib.request\n",
        "import pandas as pd\n",
        "import json\n",
        "from bs4 import BeautifulSoup\n",
        "import re\n",
        "import requests\n",
        "from tabulate import tabulate\n",
        "\n",
        "def BAR():\n",
        "    print('--------------------------------------------------------------------')\n",
        "\n",
        "def print_DF(df):\n",
        "    print(tabulate(df, headers='keys', tablefmt='psql'))\n",
        "\n",
        "#네이버 api를 통해 검색 후 상위 5개 검색어 반환\n",
        "def searching(title):\n",
        "    client_id = \"JnkicuvSa2phrxPmgIXM\"\n",
        "    client_secret = \"7nhnLrKQWp\"\n",
        "    \n",
        "    encText = urllib.parse.quote(title)\n",
        "    \n",
        "    url = \"https://openapi.naver.com/v1/search/book?query=\" + encText +\"&display=5\"\n",
        "\n",
        "    request = urllib.request.Request(url)\n",
        "    request.add_header(\"X-Naver-Client-Id\",client_id)\n",
        "    request.add_header(\"X-Naver-Client-Secret\",client_secret)\n",
        "    response = urllib.request.urlopen(request)\n",
        "    \n",
        "    rescode = response.getcode()\n",
        "    if(rescode == 200):\n",
        "        response_body = response.read()\n",
        "        result = response_body.decode('utf-8')\n",
        "        result = json.loads(result)\n",
        "\n",
        "        print(\"Success!\")\n",
        "        return result\n",
        "    else:\n",
        "        print(\"Error Code:\" + rescode)\n",
        "        return -1\n",
        "\n",
        "#상위 5개의 검색 결과에서 사용자가 원하는 책을 고릅니다.\n",
        "def choose_one_return_url(book):\n",
        "    book_df = pd.DataFrame(book['items'])\n",
        "\n",
        "    for i in range(len(book_df)):\n",
        "        book_df.iloc[i]['title'] = BeautifulSoup(book_df.iloc[i]['title'], \"html5lib\").get_text()\n",
        "    \n",
        "    book_to_choice = book_df[['title','author']]\n",
        "\n",
        "    print_DF(book_to_choice)   \n",
        "\n",
        "    while 1:\n",
        "        choice = int(input('Please enter the number of the book you want.: '))\n",
        "\n",
        "        if choice < 0 or choice >= 5:\n",
        "            print(\"Please enter 0 between 5.\")\n",
        "        else:\n",
        "            break        \n",
        "    print(\"Success!\")\n",
        "\n",
        "    return book_df.iloc[choice][\"title\"], book_df.iloc[choice][\"link\"]\n",
        "\n",
        "#사용자가 선택한 책의 정보 전체를 받아옴\n",
        "def make_description(URL):   \n",
        "    url = requests.get(URL)\n",
        "\n",
        "    #BeautifulSoup: requests로 받아온 html 문서를 보기 좋게 꾸며주는 틀\n",
        "    soup = BeautifulSoup(url.text, 'html.parser')\n",
        "\n",
        "    whole_review = soup.findAll(\"div\", attrs={\"id\":\"bookIntroContent\"})\n",
        "    whole_review\n",
        "\n",
        "    for line in whole_review:\n",
        "        book_des = line.get_text()\n",
        "    print(\"Success!\")\n",
        "    return book_des\n",
        "\n",
        "#한글 -> 영어\n",
        "def translation(target):\n",
        "    client_id = \"9IHX5zHlL1QnIXwNAxGk\"\n",
        "    client_secret = \"WbabULoTuj\"\n",
        "\n",
        "    url = \"https://openapi.naver.com/v1/papago/n2mt\"\n",
        "\n",
        "    #번역할 언어와 내용에 대해\n",
        "    text = target\n",
        "    encText = urllib.parse.quote(text)\n",
        "    srcLang = 'ko'\n",
        "    tarLang = 'en'\n",
        "    data = \"source={}&target={}&text=\".format(srcLang,tarLang) + encText\n",
        "\n",
        "    #웹 요청\n",
        "    request = urllib.request.Request(url)\n",
        "    request.add_header(\"X-Naver-Client-Id\",client_id)\n",
        "    request.add_header(\"X-Naver-Client-Secret\",client_secret)\n",
        "\n",
        "    #결과 받아오는 부분\n",
        "    response = urllib.request.urlopen(request, data=data.encode(\"utf-8\"))\n",
        "\n",
        "    #응답\n",
        "    rescode = response.getcode()\n",
        "    if(rescode==200): #성공\n",
        "        response_body = response.read()\n",
        "        data = response_body.decode('utf-8')\n",
        "        data = json.loads(data) #딕셔너리화\n",
        "        trans_text = data['message']['result']['translatedText']\n",
        "        trans_text = re.sub('[^A-Za-z0-9]+', ' ', trans_text)\n",
        "        return trans_text\n",
        "    else: #실패\n",
        "        print(\"Error Code:\" + rescode)\n",
        "        return -1"
      ],
      "execution_count": null,
      "outputs": []
    },
    {
      "cell_type": "code",
      "metadata": {
        "colab": {
          "base_uri": "https://localhost:8080/"
        },
        "id": "CUZXk8XiUQ3E",
        "outputId": "37a6dbbb-b344-4cea-892b-48ed0c5a7215"
      },
      "source": [
        "user_data = input(\"Please enter the title of the book : \")\n",
        "result = searching(user_data)\n",
        "book_title, url = choose_one_return_url(result)\n",
        "book_des = make_description(url)\n",
        "\n",
        "book_title = translation(book_title)\n",
        "book_des = translation(book_des)\n",
        "\n",
        "BAR()\n",
        "print('Book Title: ', book_title)\n",
        "print('Book Description: ', book_des)\n"
      ],
      "execution_count": null,
      "outputs": [
        {
          "output_type": "stream",
          "text": [
            "Please enter the title of the book : 악의\n",
            "Success!\n",
            "+----+----------------------------------------------------------------------------------------+----------------------+\n",
            "|    | title                                                                                  | author               |\n",
            "|----+----------------------------------------------------------------------------------------+----------------------|\n",
            "|  0 | 악의 (가가 형사 시리즈)                                                                | 히가시노 게이고      |\n",
            "|  1 | 악의 평범성 (이산하 시집)                                                              | 이산하               |\n",
            "|  2 | 악의 꽃 (앙리 마티스 에디션)                                                           | 샤를 피에르 보들레르 |\n",
            "|  3 | 악의 마음을 읽는 자들 (국내 최초 프로파일러의 연쇄살인 추적기)                         | 권일용|고나무        |\n",
            "|  4 | 초판본 악의 꽃 - 1857년 오리지널 초판본 표지디자인 (1857년 오리지널 초판본 표지디자인) | 샤를 보들레르        |\n",
            "+----+----------------------------------------------------------------------------------------+----------------------+\n",
            "Please enter the number of the book you want.: 0\n",
            "Success!\n",
            "Success!\n",
            "--------------------------------------------------------------------\n",
            "Book Title:  Malicious GaGaDetective Series \n",
            "Book Description:  A brain game that is chased and chased over the death of a best selling author The Ugly Truth revealed after a long pursuit and The Evil the highest peak of Higashino Keigo literature is the third work in the GaGaDetective Series a novel loved by many mystery fans as well as a must read novel In The Evil you can not only meet Kyochiro who boasts brilliant brains and perseverance but also see why he a social studies teacher stepped down from his teaching job and walked the path of the police In this work which explores the long journey of malice involved in the death of a popular writer Higashino demonstrates his peak skill as a mystery writer After revealing the identity of the criminal early on he threw a mystery about the real motive and method of the murder and had a head on confrontation with the reader The author s unique way of speaking which focuses on why and how he committed the crime rather than who is the criminal maximizes its effectiveness in a unique composition consisting of the testimonies and recalls of people around him Just as you see a picture that completely changes its meaning when you turn your eyes a little the reversal that you greet over and over again during the investigation makes the reader unable to put down the book Human beings record things emotions thoughts and the flow of time to stop and leave a path behind Fiction is also an unmistakable record This book is a magnificent mystery designed to make the theme of Record itself Natsuo Kirino Viciousness is developed through Record And the writer clearly informs the reader that the record is not all directed to the truth and begins a fair brain fight Readers fall into the test by alternating between the writings of the criminal in self pity the records of a plain detective who excludes emotions and two kinds of writings with different personalities Whether or not we can fall into the trap of testimony and record and how far we can sort out the truth behind it In line with his reputation as the leading figure in the mystery novel world Keigo Higashino once again captivates readers with a combination of tense development of events attraction surprising twists and in depth insights into humans And the slowly revealing motive for murder the deep darkness of man behind it and the aesthetics of reversal help readers realize what the thrill of mystery novels expect The truth of the incident that has been revealed is way beyond the expectations of readers Like the author s representative work talking about the society we live in now the criminal s malice brings both fear and strange empathy Dead men tell no tales Wouldn t the anger over the thorough eradication of good faith which had been deprived of its mouth to speak have sparked a whirlwind like passion in Detective Gaga s heart Detective Gaga must have gone through all kinds of trouble to find out the reason for evil and its malice and find its place in good faith As expected Detective Gaga is our hero In The Words of the Mover \n"
          ],
          "name": "stdout"
        }
      ]
    },
    {
      "cell_type": "code",
      "metadata": {
        "colab": {
          "base_uri": "https://localhost:8080/"
        },
        "id": "uZRgFdQuIOgf",
        "outputId": "e69200bc-af0c-445f-b9fb-b581b9b31459"
      },
      "source": [
        "#주피터 노트북이 아닌 Colab에서 돌릴 경우 구글 드라이브에서 해당 파일 불러오는 부분\n",
        "from google.colab import drive\n",
        "drive.mount('/content/drive')\n",
        "\n",
        "file = \"/content/drive/MyDrive/Colab Notebooks/movies_metadata.csv\"\n",
        "\n",
        "data = pd.read_csv(file)\n",
        "data = data[['title','overview','imdb_id']]\n",
        "#Colab 아니면 아래 코드 이용\n",
        "#data = pd.read_csv(\"movies_metadata.csv\")\n",
        "\n",
        "data = data.head(30000)\n",
        "\n",
        "#영화 데이터 프레임에 책 description 추가\n",
        "book_data = {'title': book_title, 'overview' : book_des}\n",
        "data = data.append(book_data,ignore_index=True)\n",
        "\n",
        "\n",
        "#Null 값 확인\n",
        "data['overview'].isnull().sum()\n",
        "\n",
        "# overview에서 NaN 값을 가진 경우를 제거(tf-idf를 할 때 NaN값이 들어있으면 에러가 나기 때문)\n",
        "#해당 행을 그대로 두고 overivew의 NaN값만 제거\n",
        "data['overview'] = data['overview'].fillna('')\n",
        "#Null 값 확인\n",
        "data['overview'].isnull().sum()\n",
        "\n",
        "data['overview'].tail()"
      ],
      "execution_count": null,
      "outputs": [
        {
          "output_type": "stream",
          "text": [
            "Drive already mounted at /content/drive; to attempt to forcibly remount, call drive.mount(\"/content/drive\", force_remount=True).\n"
          ],
          "name": "stdout"
        },
        {
          "output_type": "stream",
          "text": [
            "/usr/local/lib/python3.7/dist-packages/IPython/core/interactiveshell.py:2718: DtypeWarning: Columns (10) have mixed types.Specify dtype option on import or set low_memory=False.\n",
            "  interactivity=interactivity, compiler=compiler, result=result)\n"
          ],
          "name": "stderr"
        },
        {
          "output_type": "execute_result",
          "data": {
            "text/plain": [
              "29996    A beautiful lonely girl named Melissa tries to...\n",
              "29997    A journalist starts an investigation into the ...\n",
              "29998    When an out of work actress unexpectedly lands...\n",
              "29999    Bumbling navy officer Lieutenant Humphrey Fair...\n",
              "30000    A brain game that is chased and chased over th...\n",
              "Name: overview, dtype: object"
            ]
          },
          "metadata": {
            "tags": []
          },
          "execution_count": 4
        }
      ]
    },
    {
      "cell_type": "code",
      "metadata": {
        "colab": {
          "base_uri": "https://localhost:8080/",
          "height": 81
        },
        "id": "srRPkT5_Nnb9",
        "outputId": "3cfcaa07-053e-40a0-d568-ff08355517dd"
      },
      "source": [
        "data.tail(1)"
      ],
      "execution_count": null,
      "outputs": [
        {
          "output_type": "execute_result",
          "data": {
            "text/html": [
              "<div>\n",
              "<style scoped>\n",
              "    .dataframe tbody tr th:only-of-type {\n",
              "        vertical-align: middle;\n",
              "    }\n",
              "\n",
              "    .dataframe tbody tr th {\n",
              "        vertical-align: top;\n",
              "    }\n",
              "\n",
              "    .dataframe thead th {\n",
              "        text-align: right;\n",
              "    }\n",
              "</style>\n",
              "<table border=\"1\" class=\"dataframe\">\n",
              "  <thead>\n",
              "    <tr style=\"text-align: right;\">\n",
              "      <th></th>\n",
              "      <th>title</th>\n",
              "      <th>overview</th>\n",
              "      <th>imdb_id</th>\n",
              "    </tr>\n",
              "  </thead>\n",
              "  <tbody>\n",
              "    <tr>\n",
              "      <th>30000</th>\n",
              "      <td>Malicious GaGaDetective Series</td>\n",
              "      <td>A brain game that is chased and chased over th...</td>\n",
              "      <td>NaN</td>\n",
              "    </tr>\n",
              "  </tbody>\n",
              "</table>\n",
              "</div>"
            ],
            "text/plain": [
              "                                 title  ... imdb_id\n",
              "30000  Malicious GaGaDetective Series   ...     NaN\n",
              "\n",
              "[1 rows x 3 columns]"
            ]
          },
          "metadata": {
            "tags": []
          },
          "execution_count": 17
        }
      ]
    },
    {
      "cell_type": "code",
      "metadata": {
        "colab": {
          "base_uri": "https://localhost:8080/"
        },
        "id": "MMHBf7xqL_jF",
        "outputId": "630fde72-2f9f-4707-b114-70bf7744a2b5"
      },
      "source": [
        "from sklearn.feature_extraction.text import TfidfVectorizer\n",
        "\n",
        "tfidf = TfidfVectorizer(stop_words='english') # 불용어 제거\n",
        "\n",
        "# overview에 대해서 TF-IDF 수행\n",
        "tfidf_matrix = tfidf.fit_transform(data['overview'])\n",
        "# (데이터 개수, 단어 개수)\n",
        "print(tfidf_matrix.shape)\n",
        "\n"
      ],
      "execution_count": null,
      "outputs": [
        {
          "output_type": "stream",
          "text": [
            "(30001, 58571)\n"
          ],
          "name": "stdout"
        }
      ]
    },
    {
      "cell_type": "code",
      "metadata": {
        "id": "SPLEXVvGTHsa"
      },
      "source": [
        "from sklearn.metrics.pairwise import linear_kernel\n",
        "\n",
        "#코사인 유사도 계산\n",
        "cosine_sim = linear_kernel(tfidf_matrix, tfidf_matrix)\n",
        "\n",
        "#제목에 관한 인덱스 테이블 구축\n",
        "#책 제목 입력하면 인덱스를 리턴하기 위함\n",
        "indices = pd.Series(data.index, index=data['title']).drop_duplicates()\n"
      ],
      "execution_count": null,
      "outputs": []
    },
    {
      "cell_type": "code",
      "metadata": {
        "id": "Iip8JmvIOQoE"
      },
      "source": [
        "#입력한 책에 대해서 코사인 유사도를 이용하여 overview가 가장 유사한 10개의 영화 찾아냄\n",
        "def recommendation(title, cosine_sim=cosine_sim):\n",
        "    # 입력한 책의 인덱스 가져오기\n",
        "    idx = indices[title]\n",
        "\n",
        "    # 모든 영화에 대해서 해당 책과의 유사도를 구함\n",
        "    sim_scores = list(enumerate(cosine_sim[idx]))\n",
        "\n",
        "    # 유사도에 따라 정렬\n",
        "    sim_scores = sorted(sim_scores, key=lambda x: x[1], reverse=True)\n",
        "\n",
        "    # 가장 유사한 10개의 영화를 받아옴\n",
        "    sim_scores = sim_scores[1:11]\n",
        "\n",
        "    # 가장 유사한 10개의 영화의 인덱스를 받아옴\n",
        "    movie_indices = [i[0] for i in sim_scores]\n",
        "\n",
        "    #기존에 읽어들인 데이터에서 해당 인덱스의 값들을 가져온다\n",
        "    #그리고 스코어 열을 추가하여 코사인 유사도도 확인할 수 있게 한다.\n",
        "    result_df = data.iloc[movie_indices].copy()\n",
        "    result_df['score'] = [i[1] for i in sim_scores]\n",
        "    \n",
        "    # 가장 유사한 10개의 영화의 제목과 스코어 리턴\n",
        "    result_df = result_df[[\"title\",\"score\",'imdb_id']]\n",
        "    return result_df\n",
        "\n",
        "movie_res = pd.DataFrame(recommendation(book_title))"
      ],
      "execution_count": null,
      "outputs": []
    },
    {
      "cell_type": "code",
      "metadata": {
        "colab": {
          "base_uri": "https://localhost:8080/",
          "height": 362
        },
        "id": "O7YKOjYuIEib",
        "outputId": "fc31f837-5083-4349-d414-893b0d7098fe"
      },
      "source": [
        "movie_res"
      ],
      "execution_count": null,
      "outputs": [
        {
          "output_type": "execute_result",
          "data": {
            "text/html": [
              "<div>\n",
              "<style scoped>\n",
              "    .dataframe tbody tr th:only-of-type {\n",
              "        vertical-align: middle;\n",
              "    }\n",
              "\n",
              "    .dataframe tbody tr th {\n",
              "        vertical-align: top;\n",
              "    }\n",
              "\n",
              "    .dataframe thead th {\n",
              "        text-align: right;\n",
              "    }\n",
              "</style>\n",
              "<table border=\"1\" class=\"dataframe\">\n",
              "  <thead>\n",
              "    <tr style=\"text-align: right;\">\n",
              "      <th></th>\n",
              "      <th>title</th>\n",
              "      <th>score</th>\n",
              "      <th>imdb_id</th>\n",
              "    </tr>\n",
              "  </thead>\n",
              "  <tbody>\n",
              "    <tr>\n",
              "      <th>6057</th>\n",
              "      <td>Stone Reader</td>\n",
              "      <td>0.144195</td>\n",
              "      <td>tt0324080</td>\n",
              "    </tr>\n",
              "    <tr>\n",
              "      <th>23779</th>\n",
              "      <td>The Detective</td>\n",
              "      <td>0.134250</td>\n",
              "      <td>tt1107807</td>\n",
              "    </tr>\n",
              "    <tr>\n",
              "      <th>23217</th>\n",
              "      <td>g@me.</td>\n",
              "      <td>0.130656</td>\n",
              "      <td>tt0431077</td>\n",
              "    </tr>\n",
              "    <tr>\n",
              "      <th>29594</th>\n",
              "      <td>The Impossible Hour</td>\n",
              "      <td>0.128400</td>\n",
              "      <td>tt0378936</td>\n",
              "    </tr>\n",
              "    <tr>\n",
              "      <th>24456</th>\n",
              "      <td>The Bat</td>\n",
              "      <td>0.127942</td>\n",
              "      <td>tt0016629</td>\n",
              "    </tr>\n",
              "    <tr>\n",
              "      <th>14408</th>\n",
              "      <td>A Night to Remember</td>\n",
              "      <td>0.124207</td>\n",
              "      <td>tt0036203</td>\n",
              "    </tr>\n",
              "    <tr>\n",
              "      <th>24466</th>\n",
              "      <td>Young Detective Dee: Rise of the Sea Dragon</td>\n",
              "      <td>0.116997</td>\n",
              "      <td>tt2992146</td>\n",
              "    </tr>\n",
              "    <tr>\n",
              "      <th>13448</th>\n",
              "      <td>The Unsuspected</td>\n",
              "      <td>0.115388</td>\n",
              "      <td>tt0039941</td>\n",
              "    </tr>\n",
              "    <tr>\n",
              "      <th>19604</th>\n",
              "      <td>Farewell, My Queen</td>\n",
              "      <td>0.109917</td>\n",
              "      <td>tt1753813</td>\n",
              "    </tr>\n",
              "    <tr>\n",
              "      <th>26124</th>\n",
              "      <td>The Wizard of Gore</td>\n",
              "      <td>0.109892</td>\n",
              "      <td>tt0765487</td>\n",
              "    </tr>\n",
              "  </tbody>\n",
              "</table>\n",
              "</div>"
            ],
            "text/plain": [
              "                                             title     score    imdb_id\n",
              "6057                                  Stone Reader  0.144195  tt0324080\n",
              "23779                                The Detective  0.134250  tt1107807\n",
              "23217                                        g@me.  0.130656  tt0431077\n",
              "29594                          The Impossible Hour  0.128400  tt0378936\n",
              "24456                                      The Bat  0.127942  tt0016629\n",
              "14408                          A Night to Remember  0.124207  tt0036203\n",
              "24466  Young Detective Dee: Rise of the Sea Dragon  0.116997  tt2992146\n",
              "13448                              The Unsuspected  0.115388  tt0039941\n",
              "19604                           Farewell, My Queen  0.109917  tt1753813\n",
              "26124                           The Wizard of Gore  0.109892  tt0765487"
            ]
          },
          "metadata": {
            "tags": []
          },
          "execution_count": 7
        }
      ]
    },
    {
      "cell_type": "code",
      "metadata": {
        "id": "4mPCnZFVrWb2"
      },
      "source": [
        "from imdb import IMDb\n",
        "\n",
        "# create an instance of the IMDb class\n",
        "ia = IMDb()\n",
        "def get_img(id):\n",
        "    mv = ia.get_movie(re.sub(r'[^0-9]', '',id))\n",
        "    URL = ia.get_imdbURL(mv) #URL for first result \n",
        "    # getting cover url of the series\n",
        "    cover = mv.data['cover url']\n",
        "\n",
        "    data = {'image': cover, 'URL' : URL}\n",
        "    return data"
      ],
      "execution_count": null,
      "outputs": []
    },
    {
      "cell_type": "code",
      "metadata": {
        "id": "f0eiMkfPdyAY"
      },
      "source": [
        "df_movie = pd.DataFrame()\n",
        "\n",
        "for i in range(len(movie_res)) :\n",
        "    data = get_img(movie_res.iloc[i]['imdb_id'])\n",
        "    df_temp = pd.DataFrame(data, index = [movie_res.index[i]])\n",
        "    df_movie = pd.concat([df_movie, df_temp])\n",
        "    \n"
      ],
      "execution_count": null,
      "outputs": []
    },
    {
      "cell_type": "code",
      "metadata": {
        "id": "_-TYw9WQQmpl",
        "colab": {
          "base_uri": "https://localhost:8080/",
          "height": 362
        },
        "outputId": "56424887-0563-4d48-9946-3c8050fa86c7"
      },
      "source": [
        "df_movie = pd.concat([movie_res, df_movie ], axis=1)\n",
        "\n",
        "df_movie"
      ],
      "execution_count": null,
      "outputs": [
        {
          "output_type": "execute_result",
          "data": {
            "text/html": [
              "<div>\n",
              "<style scoped>\n",
              "    .dataframe tbody tr th:only-of-type {\n",
              "        vertical-align: middle;\n",
              "    }\n",
              "\n",
              "    .dataframe tbody tr th {\n",
              "        vertical-align: top;\n",
              "    }\n",
              "\n",
              "    .dataframe thead th {\n",
              "        text-align: right;\n",
              "    }\n",
              "</style>\n",
              "<table border=\"1\" class=\"dataframe\">\n",
              "  <thead>\n",
              "    <tr style=\"text-align: right;\">\n",
              "      <th></th>\n",
              "      <th>title</th>\n",
              "      <th>score</th>\n",
              "      <th>imdb_id</th>\n",
              "      <th>image</th>\n",
              "      <th>URL</th>\n",
              "    </tr>\n",
              "  </thead>\n",
              "  <tbody>\n",
              "    <tr>\n",
              "      <th>6057</th>\n",
              "      <td>Stone Reader</td>\n",
              "      <td>0.144195</td>\n",
              "      <td>tt0324080</td>\n",
              "      <td>https://m.media-amazon.com/images/M/MV5BMTgzOD...</td>\n",
              "      <td>https://www.imdb.com/title/tt0324080/</td>\n",
              "    </tr>\n",
              "    <tr>\n",
              "      <th>23779</th>\n",
              "      <td>The Detective</td>\n",
              "      <td>0.134250</td>\n",
              "      <td>tt1107807</td>\n",
              "      <td>https://m.media-amazon.com/images/M/MV5BMjM5NT...</td>\n",
              "      <td>https://www.imdb.com/title/tt1107807/</td>\n",
              "    </tr>\n",
              "    <tr>\n",
              "      <th>23217</th>\n",
              "      <td>g@me.</td>\n",
              "      <td>0.130656</td>\n",
              "      <td>tt0431077</td>\n",
              "      <td>https://m.media-amazon.com/images/M/MV5BMGNkYj...</td>\n",
              "      <td>https://www.imdb.com/title/tt0431077/</td>\n",
              "    </tr>\n",
              "    <tr>\n",
              "      <th>29594</th>\n",
              "      <td>The Impossible Hour</td>\n",
              "      <td>0.128400</td>\n",
              "      <td>tt0378936</td>\n",
              "      <td>https://m.media-amazon.com/images/M/MV5BYTZmMW...</td>\n",
              "      <td>https://www.imdb.com/title/tt0378936/</td>\n",
              "    </tr>\n",
              "    <tr>\n",
              "      <th>24456</th>\n",
              "      <td>The Bat</td>\n",
              "      <td>0.127942</td>\n",
              "      <td>tt0016629</td>\n",
              "      <td>https://m.media-amazon.com/images/M/MV5BMTgxMz...</td>\n",
              "      <td>https://www.imdb.com/title/tt0016629/</td>\n",
              "    </tr>\n",
              "    <tr>\n",
              "      <th>14408</th>\n",
              "      <td>A Night to Remember</td>\n",
              "      <td>0.124207</td>\n",
              "      <td>tt0036203</td>\n",
              "      <td>https://m.media-amazon.com/images/M/MV5BY2IzM2...</td>\n",
              "      <td>https://www.imdb.com/title/tt0036203/</td>\n",
              "    </tr>\n",
              "    <tr>\n",
              "      <th>24466</th>\n",
              "      <td>Young Detective Dee: Rise of the Sea Dragon</td>\n",
              "      <td>0.116997</td>\n",
              "      <td>tt2992146</td>\n",
              "      <td>https://m.media-amazon.com/images/M/MV5BMmI5ND...</td>\n",
              "      <td>https://www.imdb.com/title/tt2992146/</td>\n",
              "    </tr>\n",
              "    <tr>\n",
              "      <th>13448</th>\n",
              "      <td>The Unsuspected</td>\n",
              "      <td>0.115388</td>\n",
              "      <td>tt0039941</td>\n",
              "      <td>https://m.media-amazon.com/images/M/MV5BMDY0MT...</td>\n",
              "      <td>https://www.imdb.com/title/tt0039941/</td>\n",
              "    </tr>\n",
              "    <tr>\n",
              "      <th>19604</th>\n",
              "      <td>Farewell, My Queen</td>\n",
              "      <td>0.109917</td>\n",
              "      <td>tt1753813</td>\n",
              "      <td>https://m.media-amazon.com/images/M/MV5BMjI0OT...</td>\n",
              "      <td>https://www.imdb.com/title/tt1753813/</td>\n",
              "    </tr>\n",
              "    <tr>\n",
              "      <th>26124</th>\n",
              "      <td>The Wizard of Gore</td>\n",
              "      <td>0.109892</td>\n",
              "      <td>tt0765487</td>\n",
              "      <td>https://m.media-amazon.com/images/M/MV5BMTg2MD...</td>\n",
              "      <td>https://www.imdb.com/title/tt0765487/</td>\n",
              "    </tr>\n",
              "  </tbody>\n",
              "</table>\n",
              "</div>"
            ],
            "text/plain": [
              "                                             title  ...                                    URL\n",
              "6057                                  Stone Reader  ...  https://www.imdb.com/title/tt0324080/\n",
              "23779                                The Detective  ...  https://www.imdb.com/title/tt1107807/\n",
              "23217                                        g@me.  ...  https://www.imdb.com/title/tt0431077/\n",
              "29594                          The Impossible Hour  ...  https://www.imdb.com/title/tt0378936/\n",
              "24456                                      The Bat  ...  https://www.imdb.com/title/tt0016629/\n",
              "14408                          A Night to Remember  ...  https://www.imdb.com/title/tt0036203/\n",
              "24466  Young Detective Dee: Rise of the Sea Dragon  ...  https://www.imdb.com/title/tt2992146/\n",
              "13448                              The Unsuspected  ...  https://www.imdb.com/title/tt0039941/\n",
              "19604                           Farewell, My Queen  ...  https://www.imdb.com/title/tt1753813/\n",
              "26124                           The Wizard of Gore  ...  https://www.imdb.com/title/tt0765487/\n",
              "\n",
              "[10 rows x 5 columns]"
            ]
          },
          "metadata": {
            "tags": []
          },
          "execution_count": 19
        }
      ]
    },
    {
      "cell_type": "code",
      "metadata": {
        "colab": {
          "base_uri": "https://localhost:8080/",
          "height": 1000
        },
        "id": "ceqpseeIPNew",
        "outputId": "2e4063f7-734b-4299-9f01-32d0c56094e7"
      },
      "source": [
        "print('Movie recommendation result similar to '+user_data)\n",
        "from IPython.core.display import HTML\n",
        "def path_to_image_html(path):\n",
        "    return '<img src=\"'+ path + '\" width=\"100\" >'\n",
        "\n",
        "df_movie.to_html(escape=False, formatters=dict(image=path_to_image_html))\n",
        "\n",
        "HTML(df_movie.to_html(escape=False,formatters=dict(image=path_to_image_html)))"
      ],
      "execution_count": null,
      "outputs": [
        {
          "output_type": "stream",
          "text": [
            "Movie recommendation result similar to 악의\n"
          ],
          "name": "stdout"
        },
        {
          "output_type": "execute_result",
          "data": {
            "text/html": [
              "<table border=\"1\" class=\"dataframe\">\n",
              "  <thead>\n",
              "    <tr style=\"text-align: right;\">\n",
              "      <th></th>\n",
              "      <th>title</th>\n",
              "      <th>score</th>\n",
              "      <th>imdb_id</th>\n",
              "      <th>image</th>\n",
              "      <th>URL</th>\n",
              "    </tr>\n",
              "  </thead>\n",
              "  <tbody>\n",
              "    <tr>\n",
              "      <th>6057</th>\n",
              "      <td>Stone Reader</td>\n",
              "      <td>0.144195</td>\n",
              "      <td>tt0324080</td>\n",
              "      <td><img src=\"https://m.media-amazon.com/images/M/MV5BMTgzODUzMjIyOV5BMl5BanBnXkFtZTYwOTk4MDY3._V1_SY150_CR3,0,101,150_.jpg\" width=\"100\" ></td>\n",
              "      <td>https://www.imdb.com/title/tt0324080/</td>\n",
              "    </tr>\n",
              "    <tr>\n",
              "      <th>23779</th>\n",
              "      <td>The Detective</td>\n",
              "      <td>0.134250</td>\n",
              "      <td>tt1107807</td>\n",
              "      <td><img src=\"https://m.media-amazon.com/images/M/MV5BMjM5NTk3MzY3NV5BMl5BanBnXkFtZTgwNjIwMzk5MTE@._V1_SY150_CR3,0,101,150_.jpg\" width=\"100\" ></td>\n",
              "      <td>https://www.imdb.com/title/tt1107807/</td>\n",
              "    </tr>\n",
              "    <tr>\n",
              "      <th>23217</th>\n",
              "      <td>g@me.</td>\n",
              "      <td>0.130656</td>\n",
              "      <td>tt0431077</td>\n",
              "      <td><img src=\"https://m.media-amazon.com/images/M/MV5BMGNkYjI0MDctYTcwMC00Y2QwLWJjYzUtZmVjNTJiZWU3ZTQwXkEyXkFqcGdeQXVyNjExODE1MDc@._V1_SY150_CR2,0,101,150_.jpg\" width=\"100\" ></td>\n",
              "      <td>https://www.imdb.com/title/tt0431077/</td>\n",
              "    </tr>\n",
              "    <tr>\n",
              "      <th>29594</th>\n",
              "      <td>The Impossible Hour</td>\n",
              "      <td>0.128400</td>\n",
              "      <td>tt0378936</td>\n",
              "      <td><img src=\"https://m.media-amazon.com/images/M/MV5BYTZmMWM4NjMtNTE2NS00ZjkxLTkxNzAtYzNlZTQ2Y2JiY2VmXkEyXkFqcGdeQXVyNzM0MDQ1Mw@@._V1_SY150_CR4,0,101,150_.jpg\" width=\"100\" ></td>\n",
              "      <td>https://www.imdb.com/title/tt0378936/</td>\n",
              "    </tr>\n",
              "    <tr>\n",
              "      <th>24456</th>\n",
              "      <td>The Bat</td>\n",
              "      <td>0.127942</td>\n",
              "      <td>tt0016629</td>\n",
              "      <td><img src=\"https://m.media-amazon.com/images/M/MV5BMTgxMzcyOTA1OF5BMl5BanBnXkFtZTcwMzU5NjQyMg@@._V1_SY150_CR3,0,101,150_.jpg\" width=\"100\" ></td>\n",
              "      <td>https://www.imdb.com/title/tt0016629/</td>\n",
              "    </tr>\n",
              "    <tr>\n",
              "      <th>14408</th>\n",
              "      <td>A Night to Remember</td>\n",
              "      <td>0.124207</td>\n",
              "      <td>tt0036203</td>\n",
              "      <td><img src=\"https://m.media-amazon.com/images/M/MV5BY2IzM2ZlOTgtZDM3YS00MmU4LWJkZDUtZDA1OTVkYTU4Njg1XkEyXkFqcGdeQXVyNjc0MzMzNjA@._V1_SX101_CR0,0,101,150_.jpg\" width=\"100\" ></td>\n",
              "      <td>https://www.imdb.com/title/tt0036203/</td>\n",
              "    </tr>\n",
              "    <tr>\n",
              "      <th>24466</th>\n",
              "      <td>Young Detective Dee: Rise of the Sea Dragon</td>\n",
              "      <td>0.116997</td>\n",
              "      <td>tt2992146</td>\n",
              "      <td><img src=\"https://m.media-amazon.com/images/M/MV5BMmI5NDI1NDktMmE2Ny00N2MwLWEwOWYtNzg2YzExYWNlMDQwL2ltYWdlXkEyXkFqcGdeQXVyNTAyODkwOQ@@._V1_SY150_CR3,0,101,150_.jpg\" width=\"100\" ></td>\n",
              "      <td>https://www.imdb.com/title/tt2992146/</td>\n",
              "    </tr>\n",
              "    <tr>\n",
              "      <th>13448</th>\n",
              "      <td>The Unsuspected</td>\n",
              "      <td>0.115388</td>\n",
              "      <td>tt0039941</td>\n",
              "      <td><img src=\"https://m.media-amazon.com/images/M/MV5BMDY0MTA4YmMtN2I1MS00NTFlLThlMDktZGZjMDhmY2IzYjdkXkEyXkFqcGdeQXVyNjc1NTYyMjg@._V1_SX101_CR0,0,101,150_.jpg\" width=\"100\" ></td>\n",
              "      <td>https://www.imdb.com/title/tt0039941/</td>\n",
              "    </tr>\n",
              "    <tr>\n",
              "      <th>19604</th>\n",
              "      <td>Farewell, My Queen</td>\n",
              "      <td>0.109917</td>\n",
              "      <td>tt1753813</td>\n",
              "      <td><img src=\"https://m.media-amazon.com/images/M/MV5BMjI0OTY3OTcyNF5BMl5BanBnXkFtZTcwMjA3MDM5Nw@@._V1_SY150_CR0,0,101,150_.jpg\" width=\"100\" ></td>\n",
              "      <td>https://www.imdb.com/title/tt1753813/</td>\n",
              "    </tr>\n",
              "    <tr>\n",
              "      <th>26124</th>\n",
              "      <td>The Wizard of Gore</td>\n",
              "      <td>0.109892</td>\n",
              "      <td>tt0765487</td>\n",
              "      <td><img src=\"https://m.media-amazon.com/images/M/MV5BMTg2MDU3MjQ4MF5BMl5BanBnXkFtZTcwNTA0MDczMQ@@._V1_SY150_CR0,0,101,150_.jpg\" width=\"100\" ></td>\n",
              "      <td>https://www.imdb.com/title/tt0765487/</td>\n",
              "    </tr>\n",
              "  </tbody>\n",
              "</table>"
            ],
            "text/plain": [
              "<IPython.core.display.HTML object>"
            ]
          },
          "metadata": {
            "tags": []
          },
          "execution_count": 20
        }
      ]
    },
    {
      "cell_type": "code",
      "metadata": {
        "id": "2F2zO2eUHhrs"
      },
      "source": [
        ""
      ],
      "execution_count": null,
      "outputs": []
    }
  ]
}